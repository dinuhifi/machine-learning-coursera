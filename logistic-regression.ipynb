{
 "cells": [
  {
   "cell_type": "markdown",
   "id": "61d59d85-53f3-42d4-93ff-6b9900f62c4f",
   "metadata": {},
   "source": [
    "# Logistic Regression implementation using only numpy"
   ]
  },
  {
   "cell_type": "markdown",
   "id": "d50a5244-09a9-4c36-b092-109c9834e1e5",
   "metadata": {},
   "source": [
    "## Cost function for logistic regression\n",
    "    loss = L(z) = 1/1+e^(-z), where z is a single data point.\n",
    "    cost fn = 1/m*summation(-y*log(L(z)) - (1-y)*log(1-L(z)))"
   ]
  },
  {
   "cell_type": "code",
   "execution_count": 66,
   "id": "7882ef35-0358-477d-aa92-81f8e0abf2e8",
   "metadata": {},
   "outputs": [],
   "source": [
    "import numpy as np"
   ]
  },
  {
   "cell_type": "code",
   "execution_count": 67,
   "id": "f915a499-aa64-4bc2-b77f-d24120eb2481",
   "metadata": {},
   "outputs": [],
   "source": [
    "def sigmoid(z):\n",
    "    sig = 1/(1+np.exp((-1)*z))\n",
    "    return sig"
   ]
  },
  {
   "cell_type": "code",
   "execution_count": 68,
   "id": "0e32e57b-d046-4af9-845d-b7fcb1292518",
   "metadata": {},
   "outputs": [
    {
     "data": {
      "text/plain": [
       "0.9999546021312976"
      ]
     },
     "execution_count": 68,
     "metadata": {},
     "output_type": "execute_result"
    }
   ],
   "source": [
    "sigmoid(10)"
   ]
  },
  {
   "cell_type": "code",
   "execution_count": 69,
   "id": "26aad665-e74f-45ed-a5a0-539c0dc45343",
   "metadata": {},
   "outputs": [],
   "source": [
    "X = np.array([[0.5, 1.5], [1,1], [1.5, 0.5], [3, 0.5], [2, 2], [1, 2.5]])\n",
    "y = np.array([0,0,0,1,1,1])"
   ]
  },
  {
   "cell_type": "code",
   "execution_count": 70,
   "id": "551f2ce0-1a36-44cd-8db8-a89cad318181",
   "metadata": {},
   "outputs": [],
   "source": [
    "def compute_logistic_cost(X,y,w,b):\n",
    "    m = X.shape[0]\n",
    "    cost = 0.0\n",
    "    for i in range(m):\n",
    "        z_i = np.dot(w,X[i]) + b\n",
    "        f_z = sigmoid(z_i)\n",
    "        cost += -y[i] * np.log(f_z) - (1-y[i]) * np.log(1 - f_z)\n",
    "    cost = cost / m\n",
    "    return cost"
   ]
  },
  {
   "cell_type": "code",
   "execution_count": 71,
   "id": "5c1146d1-c35f-455b-b690-13cd3754e011",
   "metadata": {},
   "outputs": [],
   "source": [
    "w_temp = np.array([0,0])\n",
    "b_temp = 0"
   ]
  },
  {
   "cell_type": "code",
   "execution_count": 72,
   "id": "2b36bbb9-612f-40fa-908e-d9d4c77f78d1",
   "metadata": {},
   "outputs": [
    {
     "data": {
      "text/plain": [
       "0.6931471805599453"
      ]
     },
     "execution_count": 72,
     "metadata": {},
     "output_type": "execute_result"
    }
   ],
   "source": [
    "compute_logistic_cost(X,y,w_temp,b_temp)"
   ]
  },
  {
   "cell_type": "markdown",
   "id": "97926447-32b6-4798-b7f9-db6bd4836899",
   "metadata": {},
   "source": [
    "## Gradient descent implementation for logistic regression\n",
    "    w_new = w_old - lr*(dj/dw)\n",
    "    b_new = b_old - lr*(dj/db), where lr is the learning rate, w and b are the parameters to be adjusted and j is the logistic regression function"
   ]
  },
  {
   "cell_type": "code",
   "execution_count": 73,
   "id": "0c4a5177-8deb-495d-9ebc-546d2b77a8a6",
   "metadata": {},
   "outputs": [],
   "source": [
    "def compute_gradient_logistic(X,y,w,b):\n",
    "    m,n = X.shape\n",
    "    dj_dw = np.zeros((n,))\n",
    "    dj_db = 0.\n",
    "\n",
    "    for i in range(m):\n",
    "        f_wb_i = sigmoid(np.dot(X[i],w) + b)\n",
    "        err_i = f_wb_i- y[i]\n",
    "        for j in range(n):\n",
    "            dj_dw[j] = dj_dw[j] + err_i * X[i,j]\n",
    "        dj_db = dj_db + err_i\n",
    "    dj_dw = dj_dw/m\n",
    "    dj_db = dj_db/m\n",
    "\n",
    "    return dj_db, dj_dw"
   ]
  },
  {
   "cell_type": "code",
   "execution_count": 74,
   "id": "4d8cb313-1d1d-464f-829d-c38716672c2a",
   "metadata": {},
   "outputs": [
    {
     "data": {
      "text/plain": [
       "(0.0, array([-0.25      , -0.16666667]))"
      ]
     },
     "execution_count": 74,
     "metadata": {},
     "output_type": "execute_result"
    }
   ],
   "source": [
    "compute_gradient_logistic(X,y,w_temp,b_temp)"
   ]
  },
  {
   "cell_type": "code",
   "execution_count": 100,
   "id": "4f51aabf-7848-461c-a15c-5d0fdc3c9b7d",
   "metadata": {},
   "outputs": [],
   "source": [
    "import copy,math\n",
    "def gradient_descent(X, y, w_in, b_in, alpha, num_iters): \n",
    "\n",
    "    J_history = []\n",
    "    w = copy.deepcopy(w_in)\n",
    "    b = b_in\n",
    "    for i in range(num_iters):\n",
    "        dj_db, dj_dw = compute_gradient_logistic(X, y, w, b)   \n",
    "        w = w - alpha * dj_dw               \n",
    "        b = b - alpha * dj_db               \n",
    "        if i<100000:\n",
    "            J_history.append( compute_logistic_cost(X, y, w, b) )\n",
    "        if i% math.ceil(num_iters / 10) == 0:\n",
    "            print(f\"Iteration {i:4d}: Cost {J_history[-1]}   \")\n",
    "    return w, b"
   ]
  },
  {
   "cell_type": "code",
   "execution_count": 97,
   "id": "bfd424e6-d3e9-4928-a06e-cd57607fafa5",
   "metadata": {},
   "outputs": [
    {
     "name": "stdout",
     "output_type": "stream",
     "text": [
      "Iteration    0: Cost 0.684610468560574   \n",
      "Iteration 10000: Cost 0.01711604647887364   \n",
      "Iteration 20000: Cost 0.008523403979166485   \n",
      "Iteration 30000: Cost 0.005672197191107651   \n",
      "Iteration 40000: Cost 0.004250161053834308   \n",
      "Iteration 50000: Cost 0.003398230224179212   \n",
      "Iteration 60000: Cost 0.00283084256010047   \n",
      "Iteration 70000: Cost 0.002425848306579758   \n",
      "Iteration 80000: Cost 0.0021222573122028584   \n",
      "Iteration 90000: Cost 0.0018862216652143864   \n"
     ]
    },
    {
     "data": {
      "text/plain": [
       "(array([8.35313087, 8.15226727]), -22.690605796630248)"
      ]
     },
     "execution_count": 97,
     "metadata": {},
     "output_type": "execute_result"
    }
   ],
   "source": [
    "gradient_descent(X,y,w_temp,b_temp,0.1,100000)"
   ]
  },
  {
   "cell_type": "code",
   "execution_count": 98,
   "id": "1451905d-1d1f-416f-ad5a-51c77ef89f3e",
   "metadata": {},
   "outputs": [
    {
     "name": "stdout",
     "output_type": "stream",
     "text": [
      "dj_db: 0.49861806546328574\n",
      "dj_dw: [0.498333393278696, 0.49883942983996693]\n"
     ]
    }
   ],
   "source": [
    "X_tmp = np.array([[0.5, 1.5], [1,1], [1.5, 0.5], [3, 0.5], [2, 2], [1, 2.5]])\n",
    "y_tmp = np.array([0, 0, 0, 1, 1, 1])\n",
    "w_tmp = np.array([2.,3.])\n",
    "b_tmp = 1.\n",
    "dj_db_tmp, dj_dw_tmp = compute_gradient_logistic(X_tmp, y_tmp, w_tmp, b_tmp)\n",
    "print(f\"dj_db: {dj_db_tmp}\" )\n",
    "print(f\"dj_dw: {dj_dw_tmp.tolist()}\" )"
   ]
  },
  {
   "cell_type": "code",
   "execution_count": 99,
   "id": "893e7ec4-b4c7-4cce-9e03-b564b276e696",
   "metadata": {},
   "outputs": [
    {
     "name": "stdout",
     "output_type": "stream",
     "text": [
      "Iteration    0: Cost 2.9268211860885565   \n",
      "Iteration  100: Cost 0.47207014490600896   \n",
      "Iteration  200: Cost 0.38715163873342845   \n",
      "Iteration  300: Cost 0.3286394164896976   \n",
      "Iteration  400: Cost 0.28398075952100293   \n",
      "Iteration  500: Cost 0.24904645247162985   \n",
      "Iteration  600: Cost 0.22116215253509477   \n",
      "Iteration  700: Cost 0.19850101105667262   \n",
      "Iteration  800: Cost 0.17978868340702284   \n",
      "Iteration  900: Cost 0.16411810425810738   \n"
     ]
    },
    {
     "data": {
      "text/plain": [
       "(array([2.37684375, 2.15000639]), -6.113586242730276)"
      ]
     },
     "execution_count": 99,
     "metadata": {},
     "output_type": "execute_result"
    }
   ],
   "source": [
    "gradient_descent(X_tmp,y_tmp,w_tmp,b_tmp,0.1,1000)"
   ]
  },
  {
   "cell_type": "markdown",
   "id": "bba65a28-844f-453a-8c59-36a0308fa0fa",
   "metadata": {},
   "source": [
    "# logistic regression using scikit-learn"
   ]
  },
  {
   "cell_type": "code",
   "execution_count": 112,
   "id": "e6697bdc-8767-40ca-966d-c400db7c25b1",
   "metadata": {},
   "outputs": [],
   "source": [
    "X = np.array([[0.5, 1.5], [1,1], [1.5, 0.5], [3, 0.5], [2, 2], [1, 2.5]])\n",
    "y = np.array([0, 0, 0, 1, 1, 1])"
   ]
  },
  {
   "cell_type": "code",
   "execution_count": 113,
   "id": "61cb31e7-8993-4722-baf2-9db62df1aa9b",
   "metadata": {},
   "outputs": [],
   "source": [
    "from sklearn.linear_model import LogisticRegression"
   ]
  },
  {
   "cell_type": "code",
   "execution_count": 114,
   "id": "0b5149d6-ca0a-4464-8ee9-d22195355945",
   "metadata": {},
   "outputs": [],
   "source": [
    "model = LogisticRegression()"
   ]
  },
  {
   "cell_type": "code",
   "execution_count": 115,
   "id": "afe46ea7-6772-4506-900b-3736d86a4516",
   "metadata": {},
   "outputs": [
    {
     "data": {
      "text/html": [
       "<style>#sk-container-id-2 {color: black;background-color: white;}#sk-container-id-2 pre{padding: 0;}#sk-container-id-2 div.sk-toggleable {background-color: white;}#sk-container-id-2 label.sk-toggleable__label {cursor: pointer;display: block;width: 100%;margin-bottom: 0;padding: 0.3em;box-sizing: border-box;text-align: center;}#sk-container-id-2 label.sk-toggleable__label-arrow:before {content: \"▸\";float: left;margin-right: 0.25em;color: #696969;}#sk-container-id-2 label.sk-toggleable__label-arrow:hover:before {color: black;}#sk-container-id-2 div.sk-estimator:hover label.sk-toggleable__label-arrow:before {color: black;}#sk-container-id-2 div.sk-toggleable__content {max-height: 0;max-width: 0;overflow: hidden;text-align: left;background-color: #f0f8ff;}#sk-container-id-2 div.sk-toggleable__content pre {margin: 0.2em;color: black;border-radius: 0.25em;background-color: #f0f8ff;}#sk-container-id-2 input.sk-toggleable__control:checked~div.sk-toggleable__content {max-height: 200px;max-width: 100%;overflow: auto;}#sk-container-id-2 input.sk-toggleable__control:checked~label.sk-toggleable__label-arrow:before {content: \"▾\";}#sk-container-id-2 div.sk-estimator input.sk-toggleable__control:checked~label.sk-toggleable__label {background-color: #d4ebff;}#sk-container-id-2 div.sk-label input.sk-toggleable__control:checked~label.sk-toggleable__label {background-color: #d4ebff;}#sk-container-id-2 input.sk-hidden--visually {border: 0;clip: rect(1px 1px 1px 1px);clip: rect(1px, 1px, 1px, 1px);height: 1px;margin: -1px;overflow: hidden;padding: 0;position: absolute;width: 1px;}#sk-container-id-2 div.sk-estimator {font-family: monospace;background-color: #f0f8ff;border: 1px dotted black;border-radius: 0.25em;box-sizing: border-box;margin-bottom: 0.5em;}#sk-container-id-2 div.sk-estimator:hover {background-color: #d4ebff;}#sk-container-id-2 div.sk-parallel-item::after {content: \"\";width: 100%;border-bottom: 1px solid gray;flex-grow: 1;}#sk-container-id-2 div.sk-label:hover label.sk-toggleable__label {background-color: #d4ebff;}#sk-container-id-2 div.sk-serial::before {content: \"\";position: absolute;border-left: 1px solid gray;box-sizing: border-box;top: 0;bottom: 0;left: 50%;z-index: 0;}#sk-container-id-2 div.sk-serial {display: flex;flex-direction: column;align-items: center;background-color: white;padding-right: 0.2em;padding-left: 0.2em;position: relative;}#sk-container-id-2 div.sk-item {position: relative;z-index: 1;}#sk-container-id-2 div.sk-parallel {display: flex;align-items: stretch;justify-content: center;background-color: white;position: relative;}#sk-container-id-2 div.sk-item::before, #sk-container-id-2 div.sk-parallel-item::before {content: \"\";position: absolute;border-left: 1px solid gray;box-sizing: border-box;top: 0;bottom: 0;left: 50%;z-index: -1;}#sk-container-id-2 div.sk-parallel-item {display: flex;flex-direction: column;z-index: 1;position: relative;background-color: white;}#sk-container-id-2 div.sk-parallel-item:first-child::after {align-self: flex-end;width: 50%;}#sk-container-id-2 div.sk-parallel-item:last-child::after {align-self: flex-start;width: 50%;}#sk-container-id-2 div.sk-parallel-item:only-child::after {width: 0;}#sk-container-id-2 div.sk-dashed-wrapped {border: 1px dashed gray;margin: 0 0.4em 0.5em 0.4em;box-sizing: border-box;padding-bottom: 0.4em;background-color: white;}#sk-container-id-2 div.sk-label label {font-family: monospace;font-weight: bold;display: inline-block;line-height: 1.2em;}#sk-container-id-2 div.sk-label-container {text-align: center;}#sk-container-id-2 div.sk-container {/* jupyter's `normalize.less` sets `[hidden] { display: none; }` but bootstrap.min.css set `[hidden] { display: none !important; }` so we also need the `!important` here to be able to override the default hidden behavior on the sphinx rendered scikit-learn.org. See: https://github.com/scikit-learn/scikit-learn/issues/21755 */display: inline-block !important;position: relative;}#sk-container-id-2 div.sk-text-repr-fallback {display: none;}</style><div id=\"sk-container-id-2\" class=\"sk-top-container\"><div class=\"sk-text-repr-fallback\"><pre>LogisticRegression()</pre><b>In a Jupyter environment, please rerun this cell to show the HTML representation or trust the notebook. <br />On GitHub, the HTML representation is unable to render, please try loading this page with nbviewer.org.</b></div><div class=\"sk-container\" hidden><div class=\"sk-item\"><div class=\"sk-estimator sk-toggleable\"><input class=\"sk-toggleable__control sk-hidden--visually\" id=\"sk-estimator-id-2\" type=\"checkbox\" checked><label for=\"sk-estimator-id-2\" class=\"sk-toggleable__label sk-toggleable__label-arrow\">LogisticRegression</label><div class=\"sk-toggleable__content\"><pre>LogisticRegression()</pre></div></div></div></div></div>"
      ],
      "text/plain": [
       "LogisticRegression()"
      ]
     },
     "execution_count": 115,
     "metadata": {},
     "output_type": "execute_result"
    }
   ],
   "source": [
    "model.fit(X,y)"
   ]
  },
  {
   "cell_type": "code",
   "execution_count": 116,
   "id": "7d0ef857-2d1a-4501-8b28-4966f808d3c8",
   "metadata": {},
   "outputs": [],
   "source": [
    "y_preds = model.predict(X)"
   ]
  },
  {
   "cell_type": "code",
   "execution_count": 117,
   "id": "361935f4-7e4f-481c-bc33-9ee5902e145c",
   "metadata": {},
   "outputs": [
    {
     "data": {
      "text/plain": [
       "array([0, 0, 0, 1, 1, 1])"
      ]
     },
     "execution_count": 117,
     "metadata": {},
     "output_type": "execute_result"
    }
   ],
   "source": [
    "y"
   ]
  },
  {
   "cell_type": "code",
   "execution_count": 118,
   "id": "3d43dacd-e963-41a7-b777-10458534b793",
   "metadata": {},
   "outputs": [
    {
     "data": {
      "text/plain": [
       "array([0, 0, 0, 1, 1, 1])"
      ]
     },
     "execution_count": 118,
     "metadata": {},
     "output_type": "execute_result"
    }
   ],
   "source": [
    "y_preds"
   ]
  },
  {
   "cell_type": "code",
   "execution_count": 120,
   "id": "04482efd-5371-4db8-96f6-1acc903e4adb",
   "metadata": {},
   "outputs": [
    {
     "data": {
      "text/plain": [
       "array([1])"
      ]
     },
     "execution_count": 120,
     "metadata": {},
     "output_type": "execute_result"
    }
   ],
   "source": [
    "model.predict([[1.5,2]])"
   ]
  },
  {
   "cell_type": "markdown",
   "id": "d17f431b-764a-4eae-b73f-425cec50377a",
   "metadata": {},
   "source": [
    "## logistic regression using regularization to fix the problem of overfitting (only using numpy)"
   ]
  },
  {
   "cell_type": "code",
   "execution_count": 121,
   "id": "0c25a01b-d17f-4d76-a120-90f4a1a3c4ca",
   "metadata": {},
   "outputs": [],
   "source": [
    "def compute_cost_regularized(X,y,w,b,lambda_ = 1):\n",
    "    cost = 0.0\n",
    "    m,n = X.shape\n",
    "\n",
    "    for i in range(m):\n",
    "        z_i = np.dot(X[i],w) + b\n",
    "        f_z = sigmoid(z_i)\n",
    "        cost += -y[i]*np.log(f_z) - (1-y[i])*np.log(1-f_z)\n",
    "    cost = cost/m\n",
    "\n",
    "    reg_cost = 0\n",
    "    for j in range(n):\n",
    "        reg_cost += (w[j]**2)\n",
    "    reg_cost = (lambda_/(2*m)) * reg_cost\n",
    "    tot_cost = cost + reg_cost\n",
    "    return reg_cost"
   ]
  },
  {
   "cell_type": "code",
   "execution_count": 122,
   "id": "2703698e-7d84-47dc-9712-8ed254d4632f",
   "metadata": {},
   "outputs": [
    {
     "name": "stdout",
     "output_type": "stream",
     "text": [
      "Regularized cost: 0.02759763650177679\n"
     ]
    }
   ],
   "source": [
    "X_tmp = np.random.rand(5,6)\n",
    "y_tmp = np.array([0,1,0,1,0])\n",
    "w_tmp = np.random.rand(X_tmp.shape[1]).reshape(-1,)-0.5\n",
    "b_tmp = 0.5\n",
    "lambda_tmp = 0.7\n",
    "cost_tmp = compute_cost_regularized(X_tmp, y_tmp, w_tmp, b_tmp, lambda_tmp)\n",
    "\n",
    "print(\"Regularized cost:\", cost_tmp)"
   ]
  },
  {
   "cell_type": "code",
   "execution_count": 124,
   "id": "1e8a4d87-9645-43f6-a5b5-1eaa09fb9281",
   "metadata": {},
   "outputs": [
    {
     "data": {
      "text/plain": [
       "0.7137962067774293"
      ]
     },
     "execution_count": 124,
     "metadata": {},
     "output_type": "execute_result"
    }
   ],
   "source": [
    "compute_logistic_cost(X_tmp, y_tmp, w_tmp, b_tmp)"
   ]
  },
  {
   "cell_type": "code",
   "execution_count": 1,
   "id": "32572615-e945-4b4a-b829-425656cad7cb",
   "metadata": {},
   "outputs": [],
   "source": [
    "def compute_gradient_regularized(X,y,w,b,lambda_):\n",
    "    m,n = X.shape\n",
    "    dj_dw = np.zeros((n,))\n",
    "    dj_db = 0.0\n",
    "\n",
    "    for i in range(m):\n",
    "        f_z = sigmoid(np.dot(X[i], w) + b)\n",
    "        err_i = f_z - y[i]\n",
    "        for j in range(n):\n",
    "            dj_dw[j] = dj_dw[j] + err_i * X[i,j]\n",
    "        dj_db = dj_db + err_i\n",
    "    dj_dw = dj_dw/m\n",
    "    dj_db = dj_db/m\n",
    "\n",
    "    for i in range(n):\n",
    "        dj_dw[j] = dj_dw[j] + (lambda_/m) * w[j]\n",
    "    \n",
    "    return dj_db,dj_dw"
   ]
  },
  {
   "cell_type": "code",
   "execution_count": 129,
   "id": "8aaa29ea-bef4-4d38-9b79-4eb969dd9b96",
   "metadata": {},
   "outputs": [
    {
     "name": "stdout",
     "output_type": "stream",
     "text": [
      "dj_db: 0.341872525026184\n",
      "Regularized dj_dw:\n",
      " [0.20795321668295585, 0.09691259129884092, 0.36432189201683896]\n"
     ]
    }
   ],
   "source": [
    "X_tmp = np.random.rand(5,3)\n",
    "y_tmp = np.array([0,1,0,1,0])\n",
    "w_tmp = np.random.rand(X_tmp.shape[1])\n",
    "b_tmp = 0.5\n",
    "lambda_tmp = 0.7\n",
    "dj_db_tmp, dj_dw_tmp =  compute_gradient_regularized(X_tmp, y_tmp, w_tmp, b_tmp, lambda_tmp)\n",
    "\n",
    "print(f\"dj_db: {dj_db_tmp}\", )\n",
    "print(f\"Regularized dj_dw:\\n {dj_dw_tmp.tolist()}\", )"
   ]
  },
  {
   "cell_type": "code",
   "execution_count": 133,
   "id": "cc5324ea-660b-4d8d-aafc-2ad8ba079abe",
   "metadata": {},
   "outputs": [],
   "source": [
    "def gradient_descent_regularized(X, y, w_in, b_in, lambda_, alpha, num_iters): \n",
    "\n",
    "    w = w_in\n",
    "    b = b_in\n",
    "    for i in range(num_iters):\n",
    "        dj_db, dj_dw = compute_gradient_regularized(X, y, w, b, lambda_)   \n",
    "        w = w - alpha * dj_dw               \n",
    "        b = b - alpha * dj_db\n",
    "    return w,b"
   ]
  },
  {
   "cell_type": "code",
   "execution_count": 134,
   "id": "83ab4b11-2e81-434f-8f7b-a9f8157b66d3",
   "metadata": {},
   "outputs": [
    {
     "data": {
      "text/plain": [
       "(array([ 0.0523142 ,  0.60944219, -0.02772624]), 0.22509820087761287)"
      ]
     },
     "execution_count": 134,
     "metadata": {},
     "output_type": "execute_result"
    }
   ],
   "source": [
    "gradient_descent_regularized(X_tmp, y_tmp, w_tmp, b_tmp, lambda_tmp, 0.01, 100)"
   ]
  }
 ],
 "metadata": {
  "kernelspec": {
   "display_name": "Python 3 (ipykernel)",
   "language": "python",
   "name": "python3"
  },
  "language_info": {
   "codemirror_mode": {
    "name": "ipython",
    "version": 3
   },
   "file_extension": ".py",
   "mimetype": "text/x-python",
   "name": "python",
   "nbconvert_exporter": "python",
   "pygments_lexer": "ipython3",
   "version": "3.11.5"
  }
 },
 "nbformat": 4,
 "nbformat_minor": 5
}
